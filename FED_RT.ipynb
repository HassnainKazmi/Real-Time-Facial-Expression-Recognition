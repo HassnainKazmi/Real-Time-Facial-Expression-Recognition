{
 "nbformat": 4,
 "nbformat_minor": 0,
 "metadata": {
  "colab": {
   "provenance": [],
   "gpuType": "T4"
  },
  "kernelspec": {
   "name": "python3",
   "display_name": "Python 3"
  },
  "language_info": {
   "name": "python"
  },
  "accelerator": "GPU"
 },
 "cells": [
  {
   "cell_type": "markdown",
   "source": [
    "# Importing packages"
   ],
   "metadata": {
    "id": "46a_7BQeDjJA"
   }
  },
  {
   "cell_type": "code",
   "source": [
    "import tensorflow as tf\n",
    "from tensorflow import keras\n",
    "from keras import Sequential\n",
    "from keras.layers import Dense,Conv2D,MaxPooling2D,Flatten, BatchNormalization,Dropout,Activation\n",
    "import matplotlib.pyplot as plt\n",
    "from keras import callbacks\n",
    "import numpy as np\n",
    "from keras.applications.vgg16 import VGG16\n",
    "from sklearn.metrics import classification_report, confusion_matrix, accuracy_score,ConfusionMatrixDisplay\n",
    "import seaborn as sns\n",
    "import cv2\n",
    "from tensorflow.keras.models import load_model\n",
    "from tensorflow.keras.preprocessing.image import img_to_array\n",
    "from tensorflow.keras.callbacks import EarlyStopping\n",
    "from tensorflow.keras.preprocessing.image import ImageDataGenerator\n",
    "from tensorflow.keras.utils import plot_model"
   ],
   "metadata": {
    "id": "gUsTwmD_Di3W"
   },
   "execution_count": 6,
   "outputs": []
  },
  {
   "cell_type": "markdown",
   "source": [
    "# Data Preprocessing / Data Augmentation"
   ],
   "metadata": {
    "id": "QpRVmUuTDcM5"
   }
  },
  {
   "cell_type": "code",
   "source": [
    "train_data_path = '/content/drive/MyDrive/Colab Notebooks/FED_DATASET/train'\n",
    "train_data_path = '/content/drive/Othercomputers/My Laptop/My Data/MS HIS/3 Winter Semester 2024-2025/RT/Dataset/train'\n",
    "\n",
    "test_data_path = '/content/drive/MyDrive/Colab Notebooks/FED_DATASET/test'\n",
    "test_data_path = '/content/drive/Othercomputers/My Laptop/My Data/MS HIS/3 Winter Semester 2024-2025/RT/Dataset/test'\n",
    "\n",
    "model_weights = '/content/drive/MyDrive/Colab Notebooks/model.weights.h5'\n",
    "model_weights = '/content/drive/Othercomputers/My Laptop/My Data/MS HIS/3 Winter Semester 2024-2025/RT/weights/model.weights.h5'\n",
    "\n",
    "model_save_path = '/content/drive/Othercomputers/My Laptop/My Data/MS HIS/3 Winter Semester 2024-2025/RT/models/model.json'"
   ],
   "metadata": {
    "id": "dnm60ycxLqVg"
   },
   "execution_count": 7,
   "outputs": []
  },
  {
   "cell_type": "code",
   "source": [
    "batch_size=32\n",
    "img_size=48\n",
    "# Data Augmentation\n",
    "train_datagen = ImageDataGenerator(\n",
    "                    rescale=1./255,\n",
    "                    rotation_range=30,\n",
    "                    shear_range=0.3,\n",
    "                    zoom_range=0.3,\n",
    "                    width_shift_range = 0.1,\n",
    "                    height_shift_range = 0.1,\n",
    "                    horizontal_flip=True,\n",
    "                    validation_split=0.3)\n",
    "\n",
    "validation_datagen = ImageDataGenerator(rescale=1./255, validation_split=0.3)\n",
    "\n",
    "train_set = train_datagen.flow_from_directory(\n",
    "        train_data_path,\n",
    "        target_size=(img_size, img_size),\n",
    "        color_mode =  'grayscale',\n",
    "        batch_size=batch_size,\n",
    "        class_mode='categorical',\n",
    "        subset = 'training')\n",
    "\n",
    "validation_set = validation_datagen.flow_from_directory(\n",
    "        test_data_path,\n",
    "        target_size=(img_size, img_size),\n",
    "        color_mode =  'grayscale',\n",
    "        batch_size=batch_size,\n",
    "        class_mode='categorical',\n",
    "        subset='validation')\n"
   ],
   "metadata": {
    "id": "Dizv_PfsDaEx",
    "colab": {
     "base_uri": "https://localhost:8080/"
    },
    "outputId": "8f623ff1-359f-4019-ce88-6c6ae08b3123"
   },
   "execution_count": 3,
   "outputs": [
    {
     "output_type": "stream",
     "name": "stdout",
     "text": [
      "Found 20099 images belonging to 7 classes.\n",
      "Found 2151 images belonging to 7 classes.\n"
     ]
    }
   ]
  },
  {
   "cell_type": "markdown",
   "source": [
    "# CNN Architecture"
   ],
   "metadata": {
    "id": "yDNGECo8Fxk4"
   }
  },
  {
   "cell_type": "code",
   "source": [
    "from keras.optimizers import Adam,SGD,RMSprop\n",
    "\n",
    "no_of_classes = 7\n",
    "\n",
    "model = Sequential()\n",
    "\n",
    "#1st CNN layer\n",
    "model.add(Conv2D(64,(3,3),padding = 'same', activation='relu',\n",
    "                 input_shape = (48,48,1) ))\n",
    "model.add(BatchNormalization())\n",
    "model.add(MaxPooling2D(pool_size = (2,2)))\n",
    "model.add(Dropout(0.25))\n",
    "\n",
    "#2nd CNN layer\n",
    "model.add(Conv2D(128,(5,5),padding = 'same', activation='relu'))\n",
    "model.add(BatchNormalization())\n",
    "model.add(MaxPooling2D(pool_size = (2,2)))\n",
    "model.add(Dropout (0.25))\n",
    "\n",
    "#3rd CNN layer\n",
    "model.add(Conv2D(512,(3,3),padding = 'same', activation='relu'))\n",
    "model.add(BatchNormalization())\n",
    "model.add(MaxPooling2D(pool_size = (2,2)))\n",
    "model.add(Dropout (0.25))\n",
    "\n",
    "#4th CNN layer\n",
    "model.add(Conv2D(512,(3,3), padding='same', activation='relu'))\n",
    "model.add(BatchNormalization())\n",
    "model.add(MaxPooling2D(pool_size=(2, 2)))\n",
    "model.add(Dropout(0.25))\n",
    "\n",
    "model.add(Flatten())\n",
    "\n",
    "#Fully connected 1st layer\n",
    "model.add(Dense(256, activation='relu'))\n",
    "model.add(BatchNormalization())\n",
    "model.add(Dropout(0.25))\n",
    "\n",
    "\n",
    "# Fully connected layer 2nd layer\n",
    "model.add(Dense(512, activation='relu'))\n",
    "model.add(BatchNormalization())\n",
    "model.add(Dropout(0.25))\n",
    "\n",
    "model.add(Dense(no_of_classes, activation='softmax'))\n",
    "\n",
    "model.summary()"
   ],
   "metadata": {
    "id": "8HhWJq9eFyAz",
    "colab": {
     "base_uri": "https://localhost:8080/",
     "height": 1000
    },
    "outputId": "295f593d-70c8-4d41-cda4-03820c2c758b"
   },
   "outputs": [],
   "execution_count": null
  },
  {
   "cell_type": "markdown",
   "source": [
    "# Compiling the Model"
   ],
   "metadata": {
    "id": "Zkf38p_FF4XB"
   }
  },
  {
   "cell_type": "code",
   "source": [
    "model.compile(loss='categorical_crossentropy',\n",
    "              optimizer = Adam(learning_rate=0.0001),\n",
    "              metrics=['accuracy'])"
   ],
   "metadata": {
    "id": "mrwgydHrF4nl"
   },
   "execution_count": null,
   "outputs": []
  },
  {
   "cell_type": "markdown",
   "source": [
    "# Model Training"
   ],
   "metadata": {
    "id": "2MLadDB-F7Nh"
   }
  },
  {
   "cell_type": "code",
   "source": [
    "from keras.optimizers import RMSprop,SGD,Adam\n",
    "from keras.callbacks import ModelCheckpoint, EarlyStopping, ReduceLROnPlateau\n",
    "\n",
    "epochs = 20\n",
    "\n",
    "checkpoint = ModelCheckpoint(model_weights, monitor='val_acc', verbose=1, save_weights_only=True, mode='max')\n",
    "\n",
    "early_stopping = EarlyStopping(monitor='val_loss',\n",
    "                          min_delta=0,\n",
    "                          patience=3,\n",
    "                          verbose=1,\n",
    "                          restore_best_weights=True\n",
    "                          )\n",
    "\n",
    "reduce_learningrate = ReduceLROnPlateau(monitor='val_loss', factor=0.1,\n",
    "                              patience=2, min_lr=0.00001, mode='auto')\n",
    "\n",
    "callbacks = [checkpoint,reduce_learningrate]\n",
    "\n",
    "\n",
    "history = model.fit(train_set,\n",
    "                                steps_per_epoch=train_set.n//train_set.batch_size,\n",
    "                                epochs=epochs,\n",
    "                                validation_data = validation_set ,\n",
    "                                validation_steps = validation_set.n//validation_set.batch_size,\n",
    "                                callbacks=callbacks\n",
    "                                )"
   ],
   "metadata": {
    "colab": {
     "base_uri": "https://localhost:8080/",
     "height": 1000
    },
    "id": "aRjpFi0oF-uQ",
    "outputId": "9bcaa0fb-388b-4a4e-cecc-8cd73b14cec4"
   },
   "outputs": [],
   "execution_count": null
  },
  {
   "cell_type": "code",
   "source": [
    "# Converting the model into JSON format and storing it in \"model.json\" file.\n",
    "model_json = model.to_json()\n",
    "with open(model_save_path, \"w\") as json_file:\n",
    "    json_file.write(model_json)"
   ],
   "metadata": {
    "id": "YW8dTVCCTB1U"
   },
   "execution_count": null,
   "outputs": []
  },
  {
   "cell_type": "markdown",
   "source": [
    "# Comparing loss"
   ],
   "metadata": {
    "id": "LYkQGmv7VZKN"
   }
  },
  {
   "cell_type": "code",
   "source": [
    "# Comparing loss\n",
    "plt.plot(history.history['loss'], label='Training Loss', color='red')\n",
    "plt.plot(history.history['val_loss'], label='Validation Loss', color='blue')\n",
    "plt.legend()\n",
    "plt.show()"
   ],
   "metadata": {
    "id": "ISLmWxDXVZeq"
   },
   "execution_count": null,
   "outputs": []
  },
  {
   "cell_type": "markdown",
   "source": "# Comparing Accuracy",
   "metadata": {
    "id": "EgYWLDJQVhwC"
   }
  },
  {
   "cell_type": "code",
   "source": [
    "# Comparing accuracy\n",
    "plt.plot(history.history['accuracy'], label='Training accuracy', color='red')\n",
    "plt.plot(history.history['val_accuracy'], label='Validation accuracy', color='blue')\n",
    "plt.legend()\n",
    "plt.show()"
   ],
   "metadata": {
    "id": "vEm97m5XViMY"
   },
   "execution_count": null,
   "outputs": []
  }
 ]
}
